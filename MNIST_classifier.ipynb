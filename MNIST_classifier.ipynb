{
  "nbformat": 4,
  "nbformat_minor": 0,
  "metadata": {
    "colab": {
      "provenance": [],
      "authorship_tag": "ABX9TyNS6rb1oSEThIRbpMRKtGC2",
      "include_colab_link": true
    },
    "kernelspec": {
      "name": "python3",
      "display_name": "Python 3"
    },
    "widgets": {
      "application/vnd.jupyter.widget-state+json": {
        "1bf886cc7ab04a57b06b60be13510dd7": {
          "model_module": "@jupyter-widgets/controls",
          "model_name": "HBoxModel",
          "model_module_version": "1.5.0",
          "state": {
            "_dom_classes": [],
            "_model_module": "@jupyter-widgets/controls",
            "_model_module_version": "1.5.0",
            "_model_name": "HBoxModel",
            "_view_count": null,
            "_view_module": "@jupyter-widgets/controls",
            "_view_module_version": "1.5.0",
            "_view_name": "HBoxView",
            "box_style": "",
            "children": [
              "IPY_MODEL_6e50557840304a58bcd56d5dc78fea16",
              "IPY_MODEL_848ecda796854f2aa5fd179c3738b9dd",
              "IPY_MODEL_80dc2621d1494605904e7ca3fdb09790"
            ],
            "layout": "IPY_MODEL_831ad82438f84662b2f01058277c96ce"
          }
        },
        "6e50557840304a58bcd56d5dc78fea16": {
          "model_module": "@jupyter-widgets/controls",
          "model_name": "HTMLModel",
          "model_module_version": "1.5.0",
          "state": {
            "_dom_classes": [],
            "_model_module": "@jupyter-widgets/controls",
            "_model_module_version": "1.5.0",
            "_model_name": "HTMLModel",
            "_view_count": null,
            "_view_module": "@jupyter-widgets/controls",
            "_view_module_version": "1.5.0",
            "_view_name": "HTMLView",
            "description": "",
            "description_tooltip": null,
            "layout": "IPY_MODEL_785296804532460ba2fc328a27484c69",
            "placeholder": "​",
            "style": "IPY_MODEL_50d0651e71074725989b4a93d9d9c7ff",
            "value": "Dl Completed...: 100%"
          }
        },
        "848ecda796854f2aa5fd179c3738b9dd": {
          "model_module": "@jupyter-widgets/controls",
          "model_name": "FloatProgressModel",
          "model_module_version": "1.5.0",
          "state": {
            "_dom_classes": [],
            "_model_module": "@jupyter-widgets/controls",
            "_model_module_version": "1.5.0",
            "_model_name": "FloatProgressModel",
            "_view_count": null,
            "_view_module": "@jupyter-widgets/controls",
            "_view_module_version": "1.5.0",
            "_view_name": "ProgressView",
            "bar_style": "success",
            "description": "",
            "description_tooltip": null,
            "layout": "IPY_MODEL_2fc037c55328407ba3152353d29c13b7",
            "max": 5,
            "min": 0,
            "orientation": "horizontal",
            "style": "IPY_MODEL_b14a580c78ed49a99581c253160b342c",
            "value": 5
          }
        },
        "80dc2621d1494605904e7ca3fdb09790": {
          "model_module": "@jupyter-widgets/controls",
          "model_name": "HTMLModel",
          "model_module_version": "1.5.0",
          "state": {
            "_dom_classes": [],
            "_model_module": "@jupyter-widgets/controls",
            "_model_module_version": "1.5.0",
            "_model_name": "HTMLModel",
            "_view_count": null,
            "_view_module": "@jupyter-widgets/controls",
            "_view_module_version": "1.5.0",
            "_view_name": "HTMLView",
            "description": "",
            "description_tooltip": null,
            "layout": "IPY_MODEL_1a3609646e6d4ab3b8152324554808ca",
            "placeholder": "​",
            "style": "IPY_MODEL_08c3062aaf8f483eb7da18619a1a439d",
            "value": " 5/5 [00:02&lt;00:00,  1.20 file/s]"
          }
        },
        "831ad82438f84662b2f01058277c96ce": {
          "model_module": "@jupyter-widgets/base",
          "model_name": "LayoutModel",
          "model_module_version": "1.2.0",
          "state": {
            "_model_module": "@jupyter-widgets/base",
            "_model_module_version": "1.2.0",
            "_model_name": "LayoutModel",
            "_view_count": null,
            "_view_module": "@jupyter-widgets/base",
            "_view_module_version": "1.2.0",
            "_view_name": "LayoutView",
            "align_content": null,
            "align_items": null,
            "align_self": null,
            "border": null,
            "bottom": null,
            "display": null,
            "flex": null,
            "flex_flow": null,
            "grid_area": null,
            "grid_auto_columns": null,
            "grid_auto_flow": null,
            "grid_auto_rows": null,
            "grid_column": null,
            "grid_gap": null,
            "grid_row": null,
            "grid_template_areas": null,
            "grid_template_columns": null,
            "grid_template_rows": null,
            "height": null,
            "justify_content": null,
            "justify_items": null,
            "left": null,
            "margin": null,
            "max_height": null,
            "max_width": null,
            "min_height": null,
            "min_width": null,
            "object_fit": null,
            "object_position": null,
            "order": null,
            "overflow": null,
            "overflow_x": null,
            "overflow_y": null,
            "padding": null,
            "right": null,
            "top": null,
            "visibility": null,
            "width": null
          }
        },
        "785296804532460ba2fc328a27484c69": {
          "model_module": "@jupyter-widgets/base",
          "model_name": "LayoutModel",
          "model_module_version": "1.2.0",
          "state": {
            "_model_module": "@jupyter-widgets/base",
            "_model_module_version": "1.2.0",
            "_model_name": "LayoutModel",
            "_view_count": null,
            "_view_module": "@jupyter-widgets/base",
            "_view_module_version": "1.2.0",
            "_view_name": "LayoutView",
            "align_content": null,
            "align_items": null,
            "align_self": null,
            "border": null,
            "bottom": null,
            "display": null,
            "flex": null,
            "flex_flow": null,
            "grid_area": null,
            "grid_auto_columns": null,
            "grid_auto_flow": null,
            "grid_auto_rows": null,
            "grid_column": null,
            "grid_gap": null,
            "grid_row": null,
            "grid_template_areas": null,
            "grid_template_columns": null,
            "grid_template_rows": null,
            "height": null,
            "justify_content": null,
            "justify_items": null,
            "left": null,
            "margin": null,
            "max_height": null,
            "max_width": null,
            "min_height": null,
            "min_width": null,
            "object_fit": null,
            "object_position": null,
            "order": null,
            "overflow": null,
            "overflow_x": null,
            "overflow_y": null,
            "padding": null,
            "right": null,
            "top": null,
            "visibility": null,
            "width": null
          }
        },
        "50d0651e71074725989b4a93d9d9c7ff": {
          "model_module": "@jupyter-widgets/controls",
          "model_name": "DescriptionStyleModel",
          "model_module_version": "1.5.0",
          "state": {
            "_model_module": "@jupyter-widgets/controls",
            "_model_module_version": "1.5.0",
            "_model_name": "DescriptionStyleModel",
            "_view_count": null,
            "_view_module": "@jupyter-widgets/base",
            "_view_module_version": "1.2.0",
            "_view_name": "StyleView",
            "description_width": ""
          }
        },
        "2fc037c55328407ba3152353d29c13b7": {
          "model_module": "@jupyter-widgets/base",
          "model_name": "LayoutModel",
          "model_module_version": "1.2.0",
          "state": {
            "_model_module": "@jupyter-widgets/base",
            "_model_module_version": "1.2.0",
            "_model_name": "LayoutModel",
            "_view_count": null,
            "_view_module": "@jupyter-widgets/base",
            "_view_module_version": "1.2.0",
            "_view_name": "LayoutView",
            "align_content": null,
            "align_items": null,
            "align_self": null,
            "border": null,
            "bottom": null,
            "display": null,
            "flex": null,
            "flex_flow": null,
            "grid_area": null,
            "grid_auto_columns": null,
            "grid_auto_flow": null,
            "grid_auto_rows": null,
            "grid_column": null,
            "grid_gap": null,
            "grid_row": null,
            "grid_template_areas": null,
            "grid_template_columns": null,
            "grid_template_rows": null,
            "height": null,
            "justify_content": null,
            "justify_items": null,
            "left": null,
            "margin": null,
            "max_height": null,
            "max_width": null,
            "min_height": null,
            "min_width": null,
            "object_fit": null,
            "object_position": null,
            "order": null,
            "overflow": null,
            "overflow_x": null,
            "overflow_y": null,
            "padding": null,
            "right": null,
            "top": null,
            "visibility": null,
            "width": null
          }
        },
        "b14a580c78ed49a99581c253160b342c": {
          "model_module": "@jupyter-widgets/controls",
          "model_name": "ProgressStyleModel",
          "model_module_version": "1.5.0",
          "state": {
            "_model_module": "@jupyter-widgets/controls",
            "_model_module_version": "1.5.0",
            "_model_name": "ProgressStyleModel",
            "_view_count": null,
            "_view_module": "@jupyter-widgets/base",
            "_view_module_version": "1.2.0",
            "_view_name": "StyleView",
            "bar_color": null,
            "description_width": ""
          }
        },
        "1a3609646e6d4ab3b8152324554808ca": {
          "model_module": "@jupyter-widgets/base",
          "model_name": "LayoutModel",
          "model_module_version": "1.2.0",
          "state": {
            "_model_module": "@jupyter-widgets/base",
            "_model_module_version": "1.2.0",
            "_model_name": "LayoutModel",
            "_view_count": null,
            "_view_module": "@jupyter-widgets/base",
            "_view_module_version": "1.2.0",
            "_view_name": "LayoutView",
            "align_content": null,
            "align_items": null,
            "align_self": null,
            "border": null,
            "bottom": null,
            "display": null,
            "flex": null,
            "flex_flow": null,
            "grid_area": null,
            "grid_auto_columns": null,
            "grid_auto_flow": null,
            "grid_auto_rows": null,
            "grid_column": null,
            "grid_gap": null,
            "grid_row": null,
            "grid_template_areas": null,
            "grid_template_columns": null,
            "grid_template_rows": null,
            "height": null,
            "justify_content": null,
            "justify_items": null,
            "left": null,
            "margin": null,
            "max_height": null,
            "max_width": null,
            "min_height": null,
            "min_width": null,
            "object_fit": null,
            "object_position": null,
            "order": null,
            "overflow": null,
            "overflow_x": null,
            "overflow_y": null,
            "padding": null,
            "right": null,
            "top": null,
            "visibility": null,
            "width": null
          }
        },
        "08c3062aaf8f483eb7da18619a1a439d": {
          "model_module": "@jupyter-widgets/controls",
          "model_name": "DescriptionStyleModel",
          "model_module_version": "1.5.0",
          "state": {
            "_model_module": "@jupyter-widgets/controls",
            "_model_module_version": "1.5.0",
            "_model_name": "DescriptionStyleModel",
            "_view_count": null,
            "_view_module": "@jupyter-widgets/base",
            "_view_module_version": "1.2.0",
            "_view_name": "StyleView",
            "description_width": ""
          }
        }
      }
    }
  },
  "cells": [
    {
      "cell_type": "markdown",
      "metadata": {
        "id": "view-in-github",
        "colab_type": "text"
      },
      "source": [
        "<a href=\"https://colab.research.google.com/github/philmorrison/resources/blob/master/MNIST_classifier.ipynb\" target=\"_parent\"><img src=\"https://colab.research.google.com/assets/colab-badge.svg\" alt=\"Open In Colab\"/></a>"
      ]
    },
    {
      "cell_type": "code",
      "metadata": {
        "id": "8WvbXO5ORsh5"
      },
      "source": [
        "import numpy as np\n",
        "import urllib\n",
        "\n",
        "import tensorflow as tf\n",
        "import tensorflow_datasets as tfds\n",
        "\n",
        "from tensorflow.keras import preprocessing\n",
        "from tensorflow.keras import layers\n",
        "from tensorflow.keras.models import Sequential\n",
        "\n",
        "from tensorflow.keras.layers import Dense, Flatten, Dropout\n",
        "from tensorflow.keras.layers import Conv2D, MaxPooling2D\n",
        "from tensorflow.keras.layers import Embedding, Conv1D, MaxPooling1D, RNN, GRU, LSTM, Bidirectional "
      ],
      "execution_count": 1,
      "outputs": []
    },
    {
      "cell_type": "code",
      "metadata": {
        "id": "imENWb1pRxTJ",
        "colab": {
          "base_uri": "https://localhost:8080/",
          "height": 105,
          "referenced_widgets": [
            "1bf886cc7ab04a57b06b60be13510dd7",
            "6e50557840304a58bcd56d5dc78fea16",
            "848ecda796854f2aa5fd179c3738b9dd",
            "80dc2621d1494605904e7ca3fdb09790",
            "831ad82438f84662b2f01058277c96ce",
            "785296804532460ba2fc328a27484c69",
            "50d0651e71074725989b4a93d9d9c7ff",
            "2fc037c55328407ba3152353d29c13b7",
            "b14a580c78ed49a99581c253160b342c",
            "1a3609646e6d4ab3b8152324554808ca",
            "08c3062aaf8f483eb7da18619a1a439d"
          ]
        },
        "outputId": "ee6fa660-5ef7-46dd-e709-1c98d58dc2c8"
      },
      "source": [
        "(train_ds, test_ds), info = tfds.load(name=\"mnist\",     # imdb_reviews\n",
        "                 with_info=True,\n",
        "                 split=['train', 'test'],  # which sets to get\n",
        "                 as_supervised=True)  # ask for supervised tuples"
      ],
      "execution_count": 2,
      "outputs": [
        {
          "output_type": "stream",
          "name": "stdout",
          "text": [
            "Downloading and preparing dataset 11.06 MiB (download: 11.06 MiB, generated: 21.00 MiB, total: 32.06 MiB) to /root/tensorflow_datasets/mnist/3.0.1...\n"
          ]
        },
        {
          "output_type": "display_data",
          "data": {
            "text/plain": [
              "Dl Completed...:   0%|          | 0/5 [00:00<?, ? file/s]"
            ],
            "application/vnd.jupyter.widget-view+json": {
              "version_major": 2,
              "version_minor": 0,
              "model_id": "1bf886cc7ab04a57b06b60be13510dd7"
            }
          },
          "metadata": {}
        },
        {
          "output_type": "stream",
          "name": "stdout",
          "text": [
            "Dataset mnist downloaded and prepared to /root/tensorflow_datasets/mnist/3.0.1. Subsequent calls will reuse this data.\n"
          ]
        }
      ]
    },
    {
      "cell_type": "code",
      "metadata": {
        "id": "hdXQvptKXnDo",
        "colab": {
          "base_uri": "https://localhost:8080/"
        },
        "outputId": "630a2424-0f0b-4777-94db-ff539810304b"
      },
      "source": [
        "info"
      ],
      "execution_count": 3,
      "outputs": [
        {
          "output_type": "execute_result",
          "data": {
            "text/plain": [
              "tfds.core.DatasetInfo(\n",
              "    name='mnist',\n",
              "    full_name='mnist/3.0.1',\n",
              "    description=\"\"\"\n",
              "    The MNIST database of handwritten digits.\n",
              "    \"\"\",\n",
              "    homepage='http://yann.lecun.com/exdb/mnist/',\n",
              "    data_path='/root/tensorflow_datasets/mnist/3.0.1.incompleteYRAIHT',\n",
              "    file_format=tfrecord,\n",
              "    download_size=11.06 MiB,\n",
              "    dataset_size=21.00 MiB,\n",
              "    features=FeaturesDict({\n",
              "        'image': Image(shape=(28, 28, 1), dtype=uint8),\n",
              "        'label': ClassLabel(shape=(), dtype=int64, num_classes=10),\n",
              "    }),\n",
              "    supervised_keys=('image', 'label'),\n",
              "    disable_shuffling=False,\n",
              "    splits={\n",
              "        'test': <SplitInfo num_examples=10000, num_shards=1>,\n",
              "        'train': <SplitInfo num_examples=60000, num_shards=1>,\n",
              "    },\n",
              "    citation=\"\"\"@article{lecun2010mnist,\n",
              "      title={MNIST handwritten digit database},\n",
              "      author={LeCun, Yann and Cortes, Corinna and Burges, CJ},\n",
              "      journal={ATT Labs [Online]. Available: http://yann.lecun.com/exdb/mnist},\n",
              "      volume={2},\n",
              "      year={2010}\n",
              "    }\"\"\",\n",
              ")"
            ]
          },
          "metadata": {},
          "execution_count": 3
        }
      ]
    },
    {
      "cell_type": "code",
      "metadata": {
        "id": "GcWxNchbaPdK"
      },
      "source": [
        "images = []\n",
        "labels = []\n",
        "\n",
        "test_images = []\n",
        "test_labels = []\n",
        "\n",
        "for image, label in train_ds.take(30000):\n",
        "  images.append(image.numpy())\n",
        "  labels.append(label.numpy())\n",
        "\n",
        "for image, label in test_ds:\n",
        "  test_images.append(image.numpy())\n",
        "  test_labels.append(label.numpy())"
      ],
      "execution_count": 4,
      "outputs": []
    },
    {
      "cell_type": "code",
      "metadata": {
        "id": "OX5dDuA4cWbD"
      },
      "source": [
        "images_np = np.array(images)\n",
        "labels_np = np.array(labels)\n",
        "\n",
        "test_images_np = np.array(test_images)\n",
        "test_labels_np = np.array(test_labels)"
      ],
      "execution_count": 5,
      "outputs": []
    },
    {
      "cell_type": "code",
      "metadata": {
        "id": "-eTfwRAZmZof"
      },
      "source": [
        "from tensorflow.keras.utils import to_categorical\n",
        "labels_np = to_categorical(labels_np)\n",
        "test_labels_np = to_categorical(test_labels_np)"
      ],
      "execution_count": 6,
      "outputs": []
    },
    {
      "cell_type": "code",
      "metadata": {
        "id": "6JDNucrgaP3a",
        "colab": {
          "base_uri": "https://localhost:8080/"
        },
        "outputId": "c87207bf-81b1-40c2-b4fe-d33baee4c52c"
      },
      "source": [
        "images_np.shape"
      ],
      "execution_count": 7,
      "outputs": [
        {
          "output_type": "execute_result",
          "data": {
            "text/plain": [
              "(30000, 28, 28, 1)"
            ]
          },
          "metadata": {},
          "execution_count": 7
        }
      ]
    },
    {
      "cell_type": "code",
      "metadata": {
        "id": "9jjWncwidqVY",
        "colab": {
          "base_uri": "https://localhost:8080/"
        },
        "outputId": "ffbfd313-d949-407c-f36c-16e7c28a7602"
      },
      "source": [
        "labels_np.shape"
      ],
      "execution_count": 8,
      "outputs": [
        {
          "output_type": "execute_result",
          "data": {
            "text/plain": [
              "(30000, 10)"
            ]
          },
          "metadata": {},
          "execution_count": 8
        }
      ]
    },
    {
      "cell_type": "code",
      "metadata": {
        "id": "o9bbFf97aP6T"
      },
      "source": [
        "images_np = images_np / 255.\n",
        "test_images_np = test_images_np / 255."
      ],
      "execution_count": 9,
      "outputs": []
    },
    {
      "cell_type": "code",
      "metadata": {
        "id": "3xM9vPfliWsC",
        "colab": {
          "base_uri": "https://localhost:8080/"
        },
        "outputId": "2fe2025c-e089-4483-ca24-f4dce7b7bbce"
      },
      "source": [
        "model = Sequential()\n",
        "model.add(Conv2D(16, (3,3), padding='valid', activation='relu', input_shape=(28,28,1)))\n",
        "model.add(MaxPooling2D((2,2)))\n",
        "model.add(Conv2D(32, (3,3), padding='valid', activation='relu'))\n",
        "model.add(MaxPooling2D((2,2)))\n",
        "model.add(Flatten())\n",
        "model.add(Dropout(0.5))\n",
        "model.add(Dense(10, activation='softmax'))\n",
        "\n",
        "model.summary()"
      ],
      "execution_count": 10,
      "outputs": [
        {
          "output_type": "stream",
          "name": "stdout",
          "text": [
            "Model: \"sequential\"\n",
            "_________________________________________________________________\n",
            " Layer (type)                Output Shape              Param #   \n",
            "=================================================================\n",
            " conv2d (Conv2D)             (None, 26, 26, 16)        160       \n",
            "                                                                 \n",
            " max_pooling2d (MaxPooling2D  (None, 13, 13, 16)       0         \n",
            " )                                                               \n",
            "                                                                 \n",
            " conv2d_1 (Conv2D)           (None, 11, 11, 32)        4640      \n",
            "                                                                 \n",
            " max_pooling2d_1 (MaxPooling  (None, 5, 5, 32)         0         \n",
            " 2D)                                                             \n",
            "                                                                 \n",
            " flatten (Flatten)           (None, 800)               0         \n",
            "                                                                 \n",
            " dropout (Dropout)           (None, 800)               0         \n",
            "                                                                 \n",
            " dense (Dense)               (None, 10)                8010      \n",
            "                                                                 \n",
            "=================================================================\n",
            "Total params: 12,810\n",
            "Trainable params: 12,810\n",
            "Non-trainable params: 0\n",
            "_________________________________________________________________\n"
          ]
        }
      ]
    },
    {
      "cell_type": "code",
      "metadata": {
        "id": "7ue_yBbjiWvJ"
      },
      "source": [
        "model.compile(optimizer = 'rmsprop',\n",
        "              loss = 'categorical_crossentropy', # multiclass classification single-label per example, labels encoded as integers\n",
        "              metrics = ['accuracy']\n",
        "              )  "
      ],
      "execution_count": 12,
      "outputs": []
    },
    {
      "cell_type": "code",
      "metadata": {
        "id": "ur8V2pZriWyG",
        "colab": {
          "base_uri": "https://localhost:8080/"
        },
        "outputId": "cd5ae91e-8f9d-4365-ca32-7813468925f2"
      },
      "source": [
        "history = model.fit(images_np, labels_np,\n",
        "                    batch_size=32,\n",
        "                     epochs = 25,\n",
        "                     verbose = 1,\n",
        "                     validation_split=0.2\n",
        "                    )"
      ],
      "execution_count": null,
      "outputs": [
        {
          "output_type": "stream",
          "name": "stdout",
          "text": [
            "Epoch 1/25\n",
            "750/750 [==============================] - 16s 21ms/step - loss: 0.4626 - accuracy: 0.8565 - val_loss: 0.1468 - val_accuracy: 0.9590\n",
            "Epoch 2/25\n",
            "750/750 [==============================] - 15s 20ms/step - loss: 0.1589 - accuracy: 0.9521 - val_loss: 0.1094 - val_accuracy: 0.9683\n",
            "Epoch 3/25\n",
            "750/750 [==============================] - 16s 22ms/step - loss: 0.1257 - accuracy: 0.9628 - val_loss: 0.0864 - val_accuracy: 0.9720\n",
            "Epoch 4/25\n",
            "750/750 [==============================] - 15s 20ms/step - loss: 0.1095 - accuracy: 0.9674 - val_loss: 0.0768 - val_accuracy: 0.9758\n",
            "Epoch 5/25\n",
            "750/750 [==============================] - 15s 20ms/step - loss: 0.1003 - accuracy: 0.9695 - val_loss: 0.0700 - val_accuracy: 0.9772\n",
            "Epoch 6/25\n",
            "750/750 [==============================] - 15s 20ms/step - loss: 0.0901 - accuracy: 0.9724 - val_loss: 0.0686 - val_accuracy: 0.9773\n",
            "Epoch 7/25\n",
            "750/750 [==============================] - 15s 20ms/step - loss: 0.0873 - accuracy: 0.9739 - val_loss: 0.0640 - val_accuracy: 0.9793\n",
            "Epoch 8/25\n",
            "750/750 [==============================] - 15s 20ms/step - loss: 0.0831 - accuracy: 0.9745 - val_loss: 0.0586 - val_accuracy: 0.9813\n",
            "Epoch 9/25\n",
            "750/750 [==============================] - 15s 20ms/step - loss: 0.0748 - accuracy: 0.9770 - val_loss: 0.0547 - val_accuracy: 0.9823\n",
            "Epoch 10/25\n",
            "750/750 [==============================] - 17s 22ms/step - loss: 0.0726 - accuracy: 0.9792 - val_loss: 0.0538 - val_accuracy: 0.9823\n",
            "Epoch 11/25\n",
            "750/750 [==============================] - 16s 22ms/step - loss: 0.0701 - accuracy: 0.9792 - val_loss: 0.0485 - val_accuracy: 0.9845\n",
            "Epoch 12/25\n",
            "750/750 [==============================] - 15s 20ms/step - loss: 0.0671 - accuracy: 0.9794 - val_loss: 0.0509 - val_accuracy: 0.9842\n",
            "Epoch 13/25\n",
            "750/750 [==============================] - 15s 20ms/step - loss: 0.0690 - accuracy: 0.9788 - val_loss: 0.0470 - val_accuracy: 0.9857\n",
            "Epoch 14/25\n",
            "750/750 [==============================] - 15s 19ms/step - loss: 0.0651 - accuracy: 0.9807 - val_loss: 0.0489 - val_accuracy: 0.9845\n",
            "Epoch 15/25\n",
            "750/750 [==============================] - 16s 22ms/step - loss: 0.0644 - accuracy: 0.9793 - val_loss: 0.0499 - val_accuracy: 0.9850\n",
            "Epoch 16/25\n",
            "750/750 [==============================] - 15s 20ms/step - loss: 0.0606 - accuracy: 0.9822 - val_loss: 0.0461 - val_accuracy: 0.9857\n",
            "Epoch 17/25\n",
            "750/750 [==============================] - 15s 19ms/step - loss: 0.0607 - accuracy: 0.9813 - val_loss: 0.0447 - val_accuracy: 0.9862\n",
            "Epoch 18/25\n",
            "750/750 [==============================] - 15s 20ms/step - loss: 0.0590 - accuracy: 0.9816 - val_loss: 0.0437 - val_accuracy: 0.9860\n",
            "Epoch 19/25\n",
            "547/750 [====================>.........] - ETA: 3s - loss: 0.0583 - accuracy: 0.9825"
          ]
        }
      ]
    },
    {
      "cell_type": "code",
      "metadata": {
        "id": "tvS2upTCiW0z"
      },
      "source": [
        "model.evaluate(test_images_np, test_labels_np)"
      ],
      "execution_count": null,
      "outputs": []
    },
    {
      "cell_type": "code",
      "metadata": {
        "id": "7RvzXMPorky8"
      },
      "source": [
        "model.predict(test_images_np[0:1])"
      ],
      "execution_count": null,
      "outputs": []
    },
    {
      "cell_type": "code",
      "metadata": {
        "id": "5GGgcwhLrlSA"
      },
      "source": [
        "test_labels_np[0]"
      ],
      "execution_count": null,
      "outputs": []
    }
  ]
}